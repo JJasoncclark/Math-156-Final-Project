{
 "cells": [
  {
   "cell_type": "code",
   "execution_count": null,
   "metadata": {},
   "outputs": [],
   "source": [
    "import pandas as pd\n",
    "import h5py\n",
    "import numpy as np\n",
    "from PIL import Image\n",
    "import json"
   ]
  },
  {
   "cell_type": "code",
   "execution_count": null,
   "metadata": {},
   "outputs": [],
   "source": [
    "def dereference_data(file, obj):\n",
    "    \"\"\"\n",
    "    Recursively dereferences data in an HDF5 file.\n",
    "    - file: the open HDF5 file object\n",
    "    - obj: the object (dataset, group, or reference) to dereference\n",
    "    \"\"\"\n",
    "    if isinstance(obj, h5py.Dataset):\n",
    "        # If it's a dataset with references, we need to check its type\n",
    "        if obj.dtype == 'O':  # dtype 'O' likely contains object references\n",
    "            data = []\n",
    "            for ref in obj:\n",
    "                if isinstance(ref, h5py.Reference):\n",
    "                    data.append(dereference_data(file, file[ref]))  # Dereference each object\n",
    "                elif isinstance(ref, np.ndarray):\n",
    "                    # If it's an array, iterate over elements\n",
    "                    nested_data = [dereference_data(file, file[r]) for r in ref]\n",
    "                    data.append(nested_data)\n",
    "                else:\n",
    "                    data.append(ref)\n",
    "            return data\n",
    "        else:\n",
    "            return obj[:]  # Otherwise, return the dataset content directly\n",
    "\n",
    "    elif isinstance(obj, h5py.Group):\n",
    "        # If it's a group, recursively dereference each key\n",
    "        data = {}\n",
    "        for key, item in obj.items():\n",
    "            data[key] = dereference_data(file, item)\n",
    "        return data\n",
    "\n",
    "    elif isinstance(obj, h5py.Reference):\n",
    "        # If it's a single reference, dereference and fetch its data\n",
    "        return dereference_data(file, file[obj])\n",
    "\n",
    "    elif isinstance(obj, np.ndarray):\n",
    "        # For numpy arrays of references, iterate through each element\n",
    "        data = [dereference_data(file, file[ref]) if isinstance(ref, h5py.Reference) else ref for ref in obj]\n",
    "        return data\n",
    "\n",
    "    else:\n",
    "        return obj  # Return as-is if it's a basic data type or unhandled type\n",
    "\n",
    "# Main function to open the .mat file and process the digitStruct group\n",
    "def load_mat_to_dict(filepath):\n",
    "    with h5py.File(filepath, 'r') as mat_file:\n",
    "        # Initialize the dictionary\n",
    "        data_dict = {}\n",
    "        \n",
    "        # Process each item in digitStruct\n",
    "        digit_struct = mat_file['digitStruct']\n",
    "        for key in digit_struct.keys():\n",
    "            # Recursively dereference each key in digitStruct\n",
    "            data_dict[key] = dereference_data(mat_file, digit_struct[key])\n",
    "\n",
    "    return data_dict\n",
    "\n",
    "# Usage example\n",
    "train_data_dict = load_mat_to_dict('train/digitStruct.mat')"
   ]
  },
  {
   "cell_type": "code",
   "execution_count": null,
   "metadata": {},
   "outputs": [],
   "source": [
    "# example of how to extract a single image\n",
    "image = Image.open(\"train/1.png\")\n",
    "crop_coords = (246, 77, 246+81, 77+219)\n",
    "cropped_image = image.crop(crop_coords)\n",
    "cropped_image.show()"
   ]
  },
  {
   "cell_type": "code",
   "execution_count": null,
   "metadata": {},
   "outputs": [],
   "source": [
    "with h5py.File('train/digitStruct.mat', 'r') as mat_file:\n",
    "    # Access the 'name' dataset within 'digitStruct' (assuming the structure is 'digitStruct/name')\n",
    "    name_dataset = mat_file['digitStruct']['name']\n",
    "    \n",
    "    # Initialize a list to store dereferenced names as strings\n",
    "    dereferenced_names = []\n",
    "    \n",
    "    # Loop through each reference in the 'name' dataset\n",
    "    for i in range(name_dataset.shape[0]):\n",
    "        ref = name_dataset[i, 0]  # Access the reference at index (i, 0)\n",
    "        \n",
    "        # Dereference the object and retrieve the actual data\n",
    "        if isinstance(ref, h5py.Reference):\n",
    "            # Retrieve the object the reference points to\n",
    "            actual_data = mat_file[ref][:]\n",
    "            \n",
    "            # If the actual data is a numpy array of uint16 (representing string characters)\n",
    "            if isinstance(actual_data, np.ndarray) and actual_data.dtype == np.uint16:\n",
    "                # Convert the array of uint16 to a string (assuming it's an ASCII/Unicode encoding)\n",
    "                string_data = ''.join(chr(c) for c in actual_data.flatten())\n",
    "                dereferenced_names.append(string_data)\n",
    "            else:\n",
    "                dereferenced_names.append(actual_data)\n",
    "        else:\n",
    "            # Append as-is if not a reference (rare but sometimes data may be mixed)\n",
    "            dereferenced_names.append(ref)\n",
    "\n",
    "train_data_dict[\"name\"] = dereferenced_names\n",
    "train_data_dict[\"name\"]"
   ]
  },
  {
   "cell_type": "code",
   "execution_count": null,
   "metadata": {},
   "outputs": [],
   "source": [
    "test = train_data_dict[\"bbox\"][0]\n",
    "test"
   ]
  },
  {
   "cell_type": "code",
   "execution_count": null,
   "metadata": {},
   "outputs": [],
   "source": [
    "for i, bbox_entry in enumerate(train_data_dict[\"bbox\"]):\n",
    "    # Add \"name\" to the current bbox entry if not present\n",
    "    if \"name\" not in bbox_entry[0]:\n",
    "        bbox_entry[0][\"name\"] = set()\n",
    "\n",
    "    # Add the corresponding name to the \"name\" key\n",
    "    if i < len(train_data_dict[\"name\"]):  # Ensure we don't go out of bounds\n",
    "        bbox_entry[0][\"name\"].add(train_data_dict[\"name\"][i])\n",
    "\n",
    "train_data_dict"
   ]
  },
  {
   "cell_type": "code",
   "execution_count": null,
   "metadata": {},
   "outputs": [],
   "source": [
    "del train_data_dict[\"name\"]\n",
    "train_data_dict"
   ]
  },
  {
   "cell_type": "code",
   "execution_count": 27,
   "metadata": {},
   "outputs": [],
   "source": [
    "def clean_and_convert(obj):\n",
    "    if isinstance(obj, np.ndarray):\n",
    "        return obj.tolist()\n",
    "    elif isinstance(obj, set):\n",
    "        return list(obj)  # Convert sets to lists\n",
    "    elif isinstance(obj, list):\n",
    "        # Flatten lists\n",
    "        flattened = []\n",
    "        for element in obj:\n",
    "            cleaned_element = clean_and_convert(element)\n",
    "            if isinstance(cleaned_element, list):\n",
    "                flattened.extend(cleaned_element)  # Flatten nested lists\n",
    "            else:\n",
    "                flattened.append(cleaned_element)\n",
    "        return flattened\n",
    "    elif isinstance(obj, dict):\n",
    "        return {key: clean_and_convert(value) for key, value in obj.items()}\n",
    "    return obj\n",
    "\n",
    "# Clean and serialize the data\n",
    "cleaned_data = clean_and_convert(train_data_dict)\n",
    "\n",
    "with open(\"train_data.json\", \"w\") as file:\n",
    "    json.dump(cleaned_data, file)"
   ]
  }
 ],
 "metadata": {
  "kernelspec": {
   "display_name": "Python 3",
   "language": "python",
   "name": "python3"
  },
  "language_info": {
   "codemirror_mode": {
    "name": "ipython",
    "version": 3
   },
   "file_extension": ".py",
   "mimetype": "text/x-python",
   "name": "python",
   "nbconvert_exporter": "python",
   "pygments_lexer": "ipython3",
   "version": "3.11.2"
  }
 },
 "nbformat": 4,
 "nbformat_minor": 2
}
